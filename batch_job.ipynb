{
 "cells": [
  {
   "cell_type": "code",
   "execution_count": 1,
   "id": "eb9f6f24-92f1-4f60-8d9b-43732cd87fcb",
   "metadata": {},
   "outputs": [],
   "source": [
    "%%capture\n",
    "!pip3 install google-cloud-aiplatform==1.0.0 --upgrade\n",
    "!pip3 install kfp google-cloud-pipeline-components==0.1.1 --upgrade\n",
    "!pip3 install scikit-learn\n",
    "!pip3 install pandas"
   ]
  },
  {
   "cell_type": "code",
   "execution_count": 2,
   "id": "03a3a9ce-10a1-4f28-8d7b-193adf9c9900",
   "metadata": {},
   "outputs": [],
   "source": [
    "import uuid\n",
    "from kfp import dsl\n",
    "import kfp\n",
    "from google.cloud import aiplatform\n",
    "from kfp.v2.dsl import component\n",
    "from kfp.v2.dsl import (Artifact, Dataset, Input, InputPath, Model, Output, OutputPath, component, ClassificationMetrics, Metrics)\n",
    "from google_cloud_pipeline_components import aiplatform as gcc_aip\n",
    "from typing import NamedTuple"
   ]
  },
  {
   "cell_type": "code",
   "execution_count": 3,
   "id": "d44a30e3-d0f8-4c36-bcaa-a084a57d90ab",
   "metadata": {},
   "outputs": [
    {
     "name": "stdout",
     "output_type": "stream",
     "text": [
      "kubeflow-demos\n",
      "user-group-demo\n",
      "gs://user-group-demo/pipeline_root\n"
     ]
    }
   ],
   "source": [
    "#https://stackoverflow.com/a/54028874\n",
    "%load_ext dotenv\n",
    "%dotenv\n",
    "\n",
    "import os\n",
    "PROJECT_ID = os.environ['PROJECT_ID']\n",
    "BUCKET_NAME = os.environ['BUCKET']\n",
    "\n",
    "PIPELINE_ROOT = 'gs://{}/pipeline_root'.format(BUCKET_NAME)\n",
    "REGION = 'us-central1'\n",
    "\n",
    "print(PROJECT_ID)\n",
    "print(BUCKET_NAME)\n",
    "print(PIPELINE_ROOT)"
   ]
  },
  {
   "cell_type": "code",
   "execution_count": 18,
   "id": "6912d7c9-79f4-4fff-bf97-8f98b17b6103",
   "metadata": {},
   "outputs": [],
   "source": [
    "@component(packages_to_install=[\"google-cloud-aiplatform\"])\n",
    "def run_batch_job():\n",
    "\n",
    "    from typing import Sequence, Union\n",
    "    from google.cloud import aiplatform, aiplatform_v1\n",
    "\n",
    "    def create_batch_prediction_job_dedicated_resources_sample(\n",
    "        project: str,\n",
    "        location: str,\n",
    "        model_resource_name: str,\n",
    "        job_display_name: str,\n",
    "        gcs_source: Union[str, Sequence[str]],\n",
    "        gcs_destination: str,\n",
    "        machine_type: str = \"n1-standard-2\",\n",
    "        accelerator_count: int = 1,\n",
    "        accelerator_type: Union[str, aiplatform_v1.AcceleratorType] = \"NVIDIA_TESLA_K80\",\n",
    "        starting_replica_count: int = 1,\n",
    "        max_replica_count: int = 1,\n",
    "        sync: bool = True,\n",
    "    ):\n",
    "        aiplatform.init(project=project, location=location)\n",
    "\n",
    "        my_model = aiplatform.Model(model_resource_name)\n",
    "\n",
    "        batch_prediction_job = my_model.batch_predict(\n",
    "            job_display_name=job_display_name,\n",
    "            gcs_source=gcs_source,\n",
    "            gcs_destination_prefix=gcs_destination,\n",
    "            machine_type=machine_type,\n",
    "            accelerator_count=accelerator_count,\n",
    "            accelerator_type=accelerator_type,\n",
    "            starting_replica_count=starting_replica_count,\n",
    "            max_replica_count=max_replica_count,\n",
    "            sync=sync,\n",
    "        )\n",
    "\n",
    "        batch_prediction_job.wait()\n",
    "\n",
    "        print(batch_prediction_job.display_name)\n",
    "        print(batch_prediction_job.resource_name)\n",
    "        print(batch_prediction_job.state)\n",
    "        return batch_prediction_job\n",
    "\n",
    "        \n",
    "    create_batch_prediction_job_dedicated_resources_sample(\n",
    "            model_resource_name=\"4789441864266678272\",\n",
    "            job_display_name=\"test3\",\n",
    "            gcs_source=\"gs://test-fast/batch_test.csv\",\n",
    "            gcs_destination=\"gs://test-fast\",\n",
    "            project=\"kubeflow-demos\",\n",
    "            location=\"us-central1\",\n",
    "        )"
   ]
  },
  {
   "cell_type": "code",
   "execution_count": 19,
   "id": "2182528d-7a63-4676-829f-4792c8f6f463",
   "metadata": {},
   "outputs": [],
   "source": [
    "from datetime import datetime\n",
    "\n",
    "TIMESTAMP = datetime.now().strftime(\"%Y%m%d%H%M%S\")"
   ]
  },
  {
   "cell_type": "code",
   "execution_count": 20,
   "id": "77a95a99-1857-433d-9c15-30ac1e5d7079",
   "metadata": {},
   "outputs": [],
   "source": [
    "@kfp.dsl.pipeline(name=\"batch-test\" + str(uuid.uuid4()))\n",
    "def pipeline(\n",
    "    project: str = PROJECT_ID,\n",
    "    bucket: str = BUCKET_NAME,\n",
    "    model_id: str = \"4789441864266678272\"\n",
    "):\n",
    "    batch_task = run_batch_job()"
   ]
  },
  {
   "cell_type": "code",
   "execution_count": 21,
   "id": "e300a2b7-85cd-4699-84d0-1d9188fe4d1a",
   "metadata": {},
   "outputs": [
    {
     "name": "stderr",
     "output_type": "stream",
     "text": [
      "/Users/yarkoni/projects/ds-churn/venv/lib/python3.9/site-packages/kfp/v2/compiler/compiler.py:1263: FutureWarning: APIs imported from the v1 namespace (e.g. kfp.dsl, kfp.components, etc) will not be supported by the v2 compiler since v2.0.0\n",
      "  warnings.warn(\n"
     ]
    }
   ],
   "source": [
    "from kfp.v2 import compiler\n",
    "\n",
    "compiler.Compiler().compile(pipeline_func=pipeline, \n",
    "                            package_path=\"dag-\"+TIMESTAMP+\".json\")"
   ]
  },
  {
   "cell_type": "code",
   "execution_count": 22,
   "id": "67b81eed-ad42-425a-a663-69746ec7a117",
   "metadata": {},
   "outputs": [
    {
     "name": "stderr",
     "output_type": "stream",
     "text": [
      "/Users/yarkoni/projects/ds-churn/venv/lib/python3.9/site-packages/kfp/v2/google/client/client.py:169: FutureWarning: AIPlatformClient will be deprecated in v2.0.0. Please use PipelineJob https://googleapis.dev/python/aiplatform/latest/_modules/google/cloud/aiplatform/pipeline_jobs.html in Vertex SDK. Install the SDK using \"pip install google-cloud-aiplatform\"\n",
      "  warnings.warn(\n"
     ]
    }
   ],
   "source": [
    "from kfp.v2.google.client import AIPlatformClient\n",
    "\n",
    "api_client = AIPlatformClient(\n",
    "    project_id=PROJECT_ID,\n",
    "    region=REGION,\n",
    ")"
   ]
  },
  {
   "cell_type": "code",
   "execution_count": 23,
   "id": "95321b37-0318-4ac0-9e5a-21ccc88d541c",
   "metadata": {},
   "outputs": [
    {
     "data": {
      "text/html": [
       "See the Pipeline job <a href=\"https://console.cloud.google.com/vertex-ai/locations/us-central1/pipelines/runs/batch-test67e99280-d27b-46f2-96a0-2e10710e73f0-20211114213519?project=kubeflow-demos\" target=\"_blank\" >here</a>."
      ],
      "text/plain": [
       "<IPython.core.display.HTML object>"
      ]
     },
     "metadata": {},
     "output_type": "display_data"
    }
   ],
   "source": [
    "response = api_client.create_run_from_job_spec(\n",
    "    \"dag-\"+TIMESTAMP+\".json\",\n",
    "    pipeline_root=PIPELINE_ROOT,\n",
    "    parameter_values={\"model_id\": \"4789441864266678272\"},\n",
    ")"
   ]
  },
  {
   "cell_type": "code",
   "execution_count": null,
   "id": "ac4f232e-172c-4e36-874d-74ebc0c857ca",
   "metadata": {},
   "outputs": [],
   "source": []
  }
 ],
 "metadata": {
  "kernelspec": {
   "display_name": "Python 3",
   "language": "python",
   "name": "python3"
  },
  "language_info": {
   "codemirror_mode": {
    "name": "ipython",
    "version": 3
   },
   "file_extension": ".py",
   "mimetype": "text/x-python",
   "name": "python",
   "nbconvert_exporter": "python",
   "pygments_lexer": "ipython3",
   "version": "3.9.4"
  }
 },
 "nbformat": 4,
 "nbformat_minor": 5
}
